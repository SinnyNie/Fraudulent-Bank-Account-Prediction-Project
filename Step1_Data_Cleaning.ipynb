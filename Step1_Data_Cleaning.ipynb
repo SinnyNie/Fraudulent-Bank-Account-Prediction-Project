{
  "cells": [
    {
      "cell_type": "code",
      "execution_count": null,
      "metadata": {
        "colab": {
          "base_uri": "https://localhost:8080/"
        },
        "id": "3iwX-6OWuxWS",
        "outputId": "f4b8e56f-5745-467a-cf2b-69676ae18c17"
      },
      "outputs": [
        {
          "output_type": "stream",
          "name": "stdout",
          "text": [
            "Drive already mounted at /content/drive; to attempt to forcibly remount, call drive.mount(\"/content/drive\", force_remount=True).\n"
          ]
        }
      ],
      "source": [
        "# Import required packages\n",
        "\n",
        "from google.colab import drive\n",
        "import numpy as np\n",
        "import pandas as pd\n",
        "import matplotlib.pyplot as plt\n",
        "import seaborn as sns\n",
        "from imblearn.over_sampling import SMOTE\n",
        "\n",
        "#drive.mount('/content/drive')"
      ]
    },
    {
      "cell_type": "markdown",
      "metadata": {
        "id": "Dq57OjjcPVK7"
      },
      "source": [
        "# Dataset Information\n",
        "1. **fraud_bool** (binary): If the application is fraudulent or not. (fraud_bool = 1 represents a fraudulent bank account and fraud_bool = 0 represents a legitimate bank account application).\n",
        "2. **income** (numeric): Annual income of the applicant (in decile form). Ranges between [0.1, 0.9].\n",
        "3. **name_email_similarity** (numeric): Metric of similarity between email and applicant’s name. Higher values represent higher similarity. Ranges between [0, 1].\n",
        "4. **prev_address_months_count** (numeric): Number of months in previous registered address of the applicant, i.e. the applicant’s previous residence, if applicable. Ranges between [–1, 380] months (–1 is a missing value).\n",
        "5. **current_address_months_count** (numeric): Months in currently registered address of the applicant. Ranges between [–1, 429] months (–1 is a missing value).\n",
        "6. **customer_age** (numeric): Applicant’s age in years, rounded to the decade. Ranges between [10, 90] years.\n",
        "7. **days_since_request** (numeric): Number of days passed since application was done. Ranges between [0, 79] days.\n",
        "8. **intended_balcon_amount** (numeric): Initial transferred amount for application. Ranges between [–16, 114] (negatives are missing values).\n",
        "9. **payment_type** (categorical): Credit payment plan type. 5 possible (anonymized) values.\n",
        "10. **zip_count_4w** (numeric): Number of applications within same zip code in last 4 weeks. Ranges between [1, 6830].\n",
        "11. **velocity_6h** (numeric): Velocity of total applications made in last 6 hours, i.e., average number of applications per hour in the last 6 hours. Ranges between [–175, 16818].\n",
        "12. **velocity_24h** (numeric): Velocity of total applications made in last 24 hours, i.e., average number of applications per hour in the last 24 hours. Ranges between [1297, 9586].\n",
        "13. **velocity_4w** (numeric): Velocity of total applications made in last 4 weeks, i.e., average number of applications per hour in the last 4 weeks. Ranges between [2825, 7020].\n",
        "14. **bank_branch_count_8w** (numeric): Number of total applications in the selected bank branch in last 8 weeks. Ranges between [0, 2404].\n",
        "15. **date_of_birth_distinct_emails_4w** (numeric): Number of emails for applicants with same date of birth in last 4 weeks. Ranges between [0, 39].\n",
        "16. **employment_status** (categorical): Employment status of the applicant. 7 possible (anonymized) values.\n",
        "17. **credit_risk_score** (numeric): Internal score of application risk. Ranges between [–191, 389].\n",
        "18. **email_is_free** (binary): Domain of application email (either free or paid).\n",
        "19. **housing_status** (categorical): Current residential status of applicant. 7 possible (anonymized) values.\n",
        "20. **phone_home_valid** (binary): Validity of provided home phone.\n",
        "21. **phone_mobile_valid** (binary): Validity of provided mobile phone.\n",
        "22. **bank_months_count** (numeric): How old is previous account (if held) in months. Ranges between [-1, 32] months (–1 is a missing value).\n",
        "23. **has_other_cards** (binary): If applicant has other cards from the same banking company.\n",
        "24. **proposed_credit_limit** (numeric): Applicant’s proposed credit limit. Ranges between [200, 2000].\n",
        "25. **foreign_request** (binary): If origin country of request is different from bank’s country.\n",
        "26. **source** (categorical): Online source of application. Either browser (INTERNET) or app (TELEAPP).\n",
        "27. **session_length_in_minutes** (numeric): Length of user session in banking website in minutes. Ranges between [–1, 107] minutes (–1 is a missing value).\n",
        "28. **device_os** (categorical): Operative system of device that made request. Possible values are: Windows, macOS, Linux, X11, or other.\n",
        "29. **keep_alive_session** (binary): User option on session logout.\n",
        "30. **device_distinct_emails_8w** (numeric): Number of distinct emails in banking website from the used device in last 8 weeks. Ranges between [–1, 2] emails (–1 is a missing value).\n",
        "31. **device_fraud_count** (numeric): Number of fraudulent applications with used device. Ranges between [0, 1].\n",
        "32. **month** (numeric): Month where the application was made. Ranges between [0, 7]."
      ]
    },
    {
      "cell_type": "markdown",
      "metadata": {
        "id": "hcRn1AESG-zY"
      },
      "source": [
        "# Setup"
      ]
    },
    {
      "cell_type": "code",
      "execution_count": null,
      "metadata": {
        "colab": {
          "base_uri": "https://localhost:8080/",
          "height": 255
        },
        "id": "xEWPKcefx0jq",
        "outputId": "99d07b66-7b16-454b-acdc-e566f78bdf7b"
      },
      "outputs": [
        {
          "output_type": "execute_result",
          "data": {
            "text/plain": [
              "   fraud_bool  income  name_email_similarity  prev_address_months_count  \\\n",
              "0           0     0.3               0.986506                         -1   \n",
              "1           0     0.8               0.617426                         -1   \n",
              "2           0     0.8               0.996707                          9   \n",
              "3           0     0.6               0.475100                         11   \n",
              "4           0     0.9               0.842307                         -1   \n",
              "\n",
              "   current_address_months_count  customer_age  days_since_request  \\\n",
              "0                            25            40            0.006735   \n",
              "1                            89            20            0.010095   \n",
              "2                            14            40            0.012316   \n",
              "3                            14            30            0.006991   \n",
              "4                            29            40            5.742626   \n",
              "\n",
              "   intended_balcon_amount payment_type  zip_count_4w  ...  has_other_cards  \\\n",
              "0              102.453711           AA          1059  ...                0   \n",
              "1               -0.849551           AD          1658  ...                0   \n",
              "2               -1.490386           AB          1095  ...                0   \n",
              "3               -1.863101           AB          3483  ...                0   \n",
              "4               47.152498           AA          2339  ...                0   \n",
              "\n",
              "   proposed_credit_limit  foreign_request    source  \\\n",
              "0                 1500.0                0  INTERNET   \n",
              "1                 1500.0                0  INTERNET   \n",
              "2                  200.0                0  INTERNET   \n",
              "3                  200.0                0  INTERNET   \n",
              "4                  200.0                0  INTERNET   \n",
              "\n",
              "   session_length_in_minutes device_os  keep_alive_session  \\\n",
              "0                  16.224843     linux                   1   \n",
              "1                   3.363854     other                   1   \n",
              "2                  22.730559   windows                   0   \n",
              "3                  15.215816     linux                   1   \n",
              "4                   3.743048     other                   0   \n",
              "\n",
              "   device_distinct_emails_8w device_fraud_count  month  \n",
              "0                          1                  0      0  \n",
              "1                          1                  0      0  \n",
              "2                          1                  0      0  \n",
              "3                          1                  0      0  \n",
              "4                          1                  0      0  \n",
              "\n",
              "[5 rows x 32 columns]"
            ],
            "text/html": [
              "\n",
              "  <div id=\"df-7a82c909-49de-4171-85f5-62e77642a454\" class=\"colab-df-container\">\n",
              "    <div>\n",
              "<style scoped>\n",
              "    .dataframe tbody tr th:only-of-type {\n",
              "        vertical-align: middle;\n",
              "    }\n",
              "\n",
              "    .dataframe tbody tr th {\n",
              "        vertical-align: top;\n",
              "    }\n",
              "\n",
              "    .dataframe thead th {\n",
              "        text-align: right;\n",
              "    }\n",
              "</style>\n",
              "<table border=\"1\" class=\"dataframe\">\n",
              "  <thead>\n",
              "    <tr style=\"text-align: right;\">\n",
              "      <th></th>\n",
              "      <th>fraud_bool</th>\n",
              "      <th>income</th>\n",
              "      <th>name_email_similarity</th>\n",
              "      <th>prev_address_months_count</th>\n",
              "      <th>current_address_months_count</th>\n",
              "      <th>customer_age</th>\n",
              "      <th>days_since_request</th>\n",
              "      <th>intended_balcon_amount</th>\n",
              "      <th>payment_type</th>\n",
              "      <th>zip_count_4w</th>\n",
              "      <th>...</th>\n",
              "      <th>has_other_cards</th>\n",
              "      <th>proposed_credit_limit</th>\n",
              "      <th>foreign_request</th>\n",
              "      <th>source</th>\n",
              "      <th>session_length_in_minutes</th>\n",
              "      <th>device_os</th>\n",
              "      <th>keep_alive_session</th>\n",
              "      <th>device_distinct_emails_8w</th>\n",
              "      <th>device_fraud_count</th>\n",
              "      <th>month</th>\n",
              "    </tr>\n",
              "  </thead>\n",
              "  <tbody>\n",
              "    <tr>\n",
              "      <th>0</th>\n",
              "      <td>0</td>\n",
              "      <td>0.3</td>\n",
              "      <td>0.986506</td>\n",
              "      <td>-1</td>\n",
              "      <td>25</td>\n",
              "      <td>40</td>\n",
              "      <td>0.006735</td>\n",
              "      <td>102.453711</td>\n",
              "      <td>AA</td>\n",
              "      <td>1059</td>\n",
              "      <td>...</td>\n",
              "      <td>0</td>\n",
              "      <td>1500.0</td>\n",
              "      <td>0</td>\n",
              "      <td>INTERNET</td>\n",
              "      <td>16.224843</td>\n",
              "      <td>linux</td>\n",
              "      <td>1</td>\n",
              "      <td>1</td>\n",
              "      <td>0</td>\n",
              "      <td>0</td>\n",
              "    </tr>\n",
              "    <tr>\n",
              "      <th>1</th>\n",
              "      <td>0</td>\n",
              "      <td>0.8</td>\n",
              "      <td>0.617426</td>\n",
              "      <td>-1</td>\n",
              "      <td>89</td>\n",
              "      <td>20</td>\n",
              "      <td>0.010095</td>\n",
              "      <td>-0.849551</td>\n",
              "      <td>AD</td>\n",
              "      <td>1658</td>\n",
              "      <td>...</td>\n",
              "      <td>0</td>\n",
              "      <td>1500.0</td>\n",
              "      <td>0</td>\n",
              "      <td>INTERNET</td>\n",
              "      <td>3.363854</td>\n",
              "      <td>other</td>\n",
              "      <td>1</td>\n",
              "      <td>1</td>\n",
              "      <td>0</td>\n",
              "      <td>0</td>\n",
              "    </tr>\n",
              "    <tr>\n",
              "      <th>2</th>\n",
              "      <td>0</td>\n",
              "      <td>0.8</td>\n",
              "      <td>0.996707</td>\n",
              "      <td>9</td>\n",
              "      <td>14</td>\n",
              "      <td>40</td>\n",
              "      <td>0.012316</td>\n",
              "      <td>-1.490386</td>\n",
              "      <td>AB</td>\n",
              "      <td>1095</td>\n",
              "      <td>...</td>\n",
              "      <td>0</td>\n",
              "      <td>200.0</td>\n",
              "      <td>0</td>\n",
              "      <td>INTERNET</td>\n",
              "      <td>22.730559</td>\n",
              "      <td>windows</td>\n",
              "      <td>0</td>\n",
              "      <td>1</td>\n",
              "      <td>0</td>\n",
              "      <td>0</td>\n",
              "    </tr>\n",
              "    <tr>\n",
              "      <th>3</th>\n",
              "      <td>0</td>\n",
              "      <td>0.6</td>\n",
              "      <td>0.475100</td>\n",
              "      <td>11</td>\n",
              "      <td>14</td>\n",
              "      <td>30</td>\n",
              "      <td>0.006991</td>\n",
              "      <td>-1.863101</td>\n",
              "      <td>AB</td>\n",
              "      <td>3483</td>\n",
              "      <td>...</td>\n",
              "      <td>0</td>\n",
              "      <td>200.0</td>\n",
              "      <td>0</td>\n",
              "      <td>INTERNET</td>\n",
              "      <td>15.215816</td>\n",
              "      <td>linux</td>\n",
              "      <td>1</td>\n",
              "      <td>1</td>\n",
              "      <td>0</td>\n",
              "      <td>0</td>\n",
              "    </tr>\n",
              "    <tr>\n",
              "      <th>4</th>\n",
              "      <td>0</td>\n",
              "      <td>0.9</td>\n",
              "      <td>0.842307</td>\n",
              "      <td>-1</td>\n",
              "      <td>29</td>\n",
              "      <td>40</td>\n",
              "      <td>5.742626</td>\n",
              "      <td>47.152498</td>\n",
              "      <td>AA</td>\n",
              "      <td>2339</td>\n",
              "      <td>...</td>\n",
              "      <td>0</td>\n",
              "      <td>200.0</td>\n",
              "      <td>0</td>\n",
              "      <td>INTERNET</td>\n",
              "      <td>3.743048</td>\n",
              "      <td>other</td>\n",
              "      <td>0</td>\n",
              "      <td>1</td>\n",
              "      <td>0</td>\n",
              "      <td>0</td>\n",
              "    </tr>\n",
              "  </tbody>\n",
              "</table>\n",
              "<p>5 rows × 32 columns</p>\n",
              "</div>\n",
              "    <div class=\"colab-df-buttons\">\n",
              "\n",
              "  <div class=\"colab-df-container\">\n",
              "    <button class=\"colab-df-convert\" onclick=\"convertToInteractive('df-7a82c909-49de-4171-85f5-62e77642a454')\"\n",
              "            title=\"Convert this dataframe to an interactive table.\"\n",
              "            style=\"display:none;\">\n",
              "\n",
              "  <svg xmlns=\"http://www.w3.org/2000/svg\" height=\"24px\" viewBox=\"0 -960 960 960\">\n",
              "    <path d=\"M120-120v-720h720v720H120Zm60-500h600v-160H180v160Zm220 220h160v-160H400v160Zm0 220h160v-160H400v160ZM180-400h160v-160H180v160Zm440 0h160v-160H620v160ZM180-180h160v-160H180v160Zm440 0h160v-160H620v160Z\"/>\n",
              "  </svg>\n",
              "    </button>\n",
              "\n",
              "  <style>\n",
              "    .colab-df-container {\n",
              "      display:flex;\n",
              "      gap: 12px;\n",
              "    }\n",
              "\n",
              "    .colab-df-convert {\n",
              "      background-color: #E8F0FE;\n",
              "      border: none;\n",
              "      border-radius: 50%;\n",
              "      cursor: pointer;\n",
              "      display: none;\n",
              "      fill: #1967D2;\n",
              "      height: 32px;\n",
              "      padding: 0 0 0 0;\n",
              "      width: 32px;\n",
              "    }\n",
              "\n",
              "    .colab-df-convert:hover {\n",
              "      background-color: #E2EBFA;\n",
              "      box-shadow: 0px 1px 2px rgba(60, 64, 67, 0.3), 0px 1px 3px 1px rgba(60, 64, 67, 0.15);\n",
              "      fill: #174EA6;\n",
              "    }\n",
              "\n",
              "    .colab-df-buttons div {\n",
              "      margin-bottom: 4px;\n",
              "    }\n",
              "\n",
              "    [theme=dark] .colab-df-convert {\n",
              "      background-color: #3B4455;\n",
              "      fill: #D2E3FC;\n",
              "    }\n",
              "\n",
              "    [theme=dark] .colab-df-convert:hover {\n",
              "      background-color: #434B5C;\n",
              "      box-shadow: 0px 1px 3px 1px rgba(0, 0, 0, 0.15);\n",
              "      filter: drop-shadow(0px 1px 2px rgba(0, 0, 0, 0.3));\n",
              "      fill: #FFFFFF;\n",
              "    }\n",
              "  </style>\n",
              "\n",
              "    <script>\n",
              "      const buttonEl =\n",
              "        document.querySelector('#df-7a82c909-49de-4171-85f5-62e77642a454 button.colab-df-convert');\n",
              "      buttonEl.style.display =\n",
              "        google.colab.kernel.accessAllowed ? 'block' : 'none';\n",
              "\n",
              "      async function convertToInteractive(key) {\n",
              "        const element = document.querySelector('#df-7a82c909-49de-4171-85f5-62e77642a454');\n",
              "        const dataTable =\n",
              "          await google.colab.kernel.invokeFunction('convertToInteractive',\n",
              "                                                    [key], {});\n",
              "        if (!dataTable) return;\n",
              "\n",
              "        const docLinkHtml = 'Like what you see? Visit the ' +\n",
              "          '<a target=\"_blank\" href=https://colab.research.google.com/notebooks/data_table.ipynb>data table notebook</a>'\n",
              "          + ' to learn more about interactive tables.';\n",
              "        element.innerHTML = '';\n",
              "        dataTable['output_type'] = 'display_data';\n",
              "        await google.colab.output.renderOutput(dataTable, element);\n",
              "        const docLink = document.createElement('div');\n",
              "        docLink.innerHTML = docLinkHtml;\n",
              "        element.appendChild(docLink);\n",
              "      }\n",
              "    </script>\n",
              "  </div>\n",
              "\n",
              "\n",
              "<div id=\"df-062551cb-c613-4f48-8c15-e4fea143d0c2\">\n",
              "  <button class=\"colab-df-quickchart\" onclick=\"quickchart('df-062551cb-c613-4f48-8c15-e4fea143d0c2')\"\n",
              "            title=\"Suggest charts\"\n",
              "            style=\"display:none;\">\n",
              "\n",
              "<svg xmlns=\"http://www.w3.org/2000/svg\" height=\"24px\"viewBox=\"0 0 24 24\"\n",
              "     width=\"24px\">\n",
              "    <g>\n",
              "        <path d=\"M19 3H5c-1.1 0-2 .9-2 2v14c0 1.1.9 2 2 2h14c1.1 0 2-.9 2-2V5c0-1.1-.9-2-2-2zM9 17H7v-7h2v7zm4 0h-2V7h2v10zm4 0h-2v-4h2v4z\"/>\n",
              "    </g>\n",
              "</svg>\n",
              "  </button>\n",
              "\n",
              "<style>\n",
              "  .colab-df-quickchart {\n",
              "      --bg-color: #E8F0FE;\n",
              "      --fill-color: #1967D2;\n",
              "      --hover-bg-color: #E2EBFA;\n",
              "      --hover-fill-color: #174EA6;\n",
              "      --disabled-fill-color: #AAA;\n",
              "      --disabled-bg-color: #DDD;\n",
              "  }\n",
              "\n",
              "  [theme=dark] .colab-df-quickchart {\n",
              "      --bg-color: #3B4455;\n",
              "      --fill-color: #D2E3FC;\n",
              "      --hover-bg-color: #434B5C;\n",
              "      --hover-fill-color: #FFFFFF;\n",
              "      --disabled-bg-color: #3B4455;\n",
              "      --disabled-fill-color: #666;\n",
              "  }\n",
              "\n",
              "  .colab-df-quickchart {\n",
              "    background-color: var(--bg-color);\n",
              "    border: none;\n",
              "    border-radius: 50%;\n",
              "    cursor: pointer;\n",
              "    display: none;\n",
              "    fill: var(--fill-color);\n",
              "    height: 32px;\n",
              "    padding: 0;\n",
              "    width: 32px;\n",
              "  }\n",
              "\n",
              "  .colab-df-quickchart:hover {\n",
              "    background-color: var(--hover-bg-color);\n",
              "    box-shadow: 0 1px 2px rgba(60, 64, 67, 0.3), 0 1px 3px 1px rgba(60, 64, 67, 0.15);\n",
              "    fill: var(--button-hover-fill-color);\n",
              "  }\n",
              "\n",
              "  .colab-df-quickchart-complete:disabled,\n",
              "  .colab-df-quickchart-complete:disabled:hover {\n",
              "    background-color: var(--disabled-bg-color);\n",
              "    fill: var(--disabled-fill-color);\n",
              "    box-shadow: none;\n",
              "  }\n",
              "\n",
              "  .colab-df-spinner {\n",
              "    border: 2px solid var(--fill-color);\n",
              "    border-color: transparent;\n",
              "    border-bottom-color: var(--fill-color);\n",
              "    animation:\n",
              "      spin 1s steps(1) infinite;\n",
              "  }\n",
              "\n",
              "  @keyframes spin {\n",
              "    0% {\n",
              "      border-color: transparent;\n",
              "      border-bottom-color: var(--fill-color);\n",
              "      border-left-color: var(--fill-color);\n",
              "    }\n",
              "    20% {\n",
              "      border-color: transparent;\n",
              "      border-left-color: var(--fill-color);\n",
              "      border-top-color: var(--fill-color);\n",
              "    }\n",
              "    30% {\n",
              "      border-color: transparent;\n",
              "      border-left-color: var(--fill-color);\n",
              "      border-top-color: var(--fill-color);\n",
              "      border-right-color: var(--fill-color);\n",
              "    }\n",
              "    40% {\n",
              "      border-color: transparent;\n",
              "      border-right-color: var(--fill-color);\n",
              "      border-top-color: var(--fill-color);\n",
              "    }\n",
              "    60% {\n",
              "      border-color: transparent;\n",
              "      border-right-color: var(--fill-color);\n",
              "    }\n",
              "    80% {\n",
              "      border-color: transparent;\n",
              "      border-right-color: var(--fill-color);\n",
              "      border-bottom-color: var(--fill-color);\n",
              "    }\n",
              "    90% {\n",
              "      border-color: transparent;\n",
              "      border-bottom-color: var(--fill-color);\n",
              "    }\n",
              "  }\n",
              "</style>\n",
              "\n",
              "  <script>\n",
              "    async function quickchart(key) {\n",
              "      const quickchartButtonEl =\n",
              "        document.querySelector('#' + key + ' button');\n",
              "      quickchartButtonEl.disabled = true;  // To prevent multiple clicks.\n",
              "      quickchartButtonEl.classList.add('colab-df-spinner');\n",
              "      try {\n",
              "        const charts = await google.colab.kernel.invokeFunction(\n",
              "            'suggestCharts', [key], {});\n",
              "      } catch (error) {\n",
              "        console.error('Error during call to suggestCharts:', error);\n",
              "      }\n",
              "      quickchartButtonEl.classList.remove('colab-df-spinner');\n",
              "      quickchartButtonEl.classList.add('colab-df-quickchart-complete');\n",
              "    }\n",
              "    (() => {\n",
              "      let quickchartButtonEl =\n",
              "        document.querySelector('#df-062551cb-c613-4f48-8c15-e4fea143d0c2 button');\n",
              "      quickchartButtonEl.style.display =\n",
              "        google.colab.kernel.accessAllowed ? 'block' : 'none';\n",
              "    })();\n",
              "  </script>\n",
              "</div>\n",
              "\n",
              "    </div>\n",
              "  </div>\n"
            ],
            "application/vnd.google.colaboratory.intrinsic+json": {
              "type": "dataframe",
              "variable_name": "df"
            }
          },
          "metadata": {},
          "execution_count": 90
        }
      ],
      "source": [
        "# Load dataset\n",
        "#df = pd.read_csv('/content/drive/MyDrive/DBA3803/Dataset/neurIPS2022_fraud_detection_base.csv')\n",
        "df = pd.read_csv('neurIPS2022_fraud_detection_base.csv')\n",
        "\n",
        "# Reveal first 5 entries of dataset\n",
        "df.head()"
      ]
    },
    {
      "cell_type": "markdown",
      "metadata": {
        "id": "eV55fV2SHKJh"
      },
      "source": [
        "# Data Pre-processing (DP)\n",
        "\n",
        "(1) Check column type and column names"
      ]
    },
    {
      "cell_type": "code",
      "execution_count": null,
      "metadata": {
        "colab": {
          "base_uri": "https://localhost:8080/"
        },
        "id": "T0AMgjchyiUe",
        "outputId": "0cdbfc94-a37e-4e7f-f168-2e91d09f8b54"
      },
      "outputs": [
        {
          "output_type": "execute_result",
          "data": {
            "text/plain": [
              "(1000000, 32)"
            ]
          },
          "metadata": {},
          "execution_count": 92
        }
      ],
      "source": [
        "# Reveal shape of dataset\n",
        "df.shape"
      ]
    },
    {
      "cell_type": "code",
      "execution_count": null,
      "metadata": {
        "colab": {
          "base_uri": "https://localhost:8080/"
        },
        "id": "aptOleW3BpEK",
        "outputId": "972c9c79-e8ee-4b1a-e74b-a0e2d0fc5135"
      },
      "outputs": [
        {
          "output_type": "stream",
          "name": "stdout",
          "text": [
            "<class 'pandas.core.frame.DataFrame'>\n",
            "RangeIndex: 1000000 entries, 0 to 999999\n",
            "Data columns (total 32 columns):\n",
            " #   Column                            Non-Null Count    Dtype  \n",
            "---  ------                            --------------    -----  \n",
            " 0   fraud_bool                        1000000 non-null  int64  \n",
            " 1   income                            1000000 non-null  float64\n",
            " 2   name_email_similarity             1000000 non-null  float64\n",
            " 3   prev_address_months_count         1000000 non-null  int64  \n",
            " 4   current_address_months_count      1000000 non-null  int64  \n",
            " 5   customer_age                      1000000 non-null  int64  \n",
            " 6   days_since_request                1000000 non-null  float64\n",
            " 7   intended_balcon_amount            1000000 non-null  float64\n",
            " 8   payment_type                      1000000 non-null  object \n",
            " 9   zip_count_4w                      1000000 non-null  int64  \n",
            " 10  velocity_6h                       1000000 non-null  float64\n",
            " 11  velocity_24h                      1000000 non-null  float64\n",
            " 12  velocity_4w                       1000000 non-null  float64\n",
            " 13  bank_branch_count_8w              1000000 non-null  int64  \n",
            " 14  date_of_birth_distinct_emails_4w  1000000 non-null  int64  \n",
            " 15  employment_status                 1000000 non-null  object \n",
            " 16  credit_risk_score                 1000000 non-null  int64  \n",
            " 17  email_is_free                     1000000 non-null  int64  \n",
            " 18  housing_status                    1000000 non-null  object \n",
            " 19  phone_home_valid                  1000000 non-null  int64  \n",
            " 20  phone_mobile_valid                1000000 non-null  int64  \n",
            " 21  bank_months_count                 1000000 non-null  int64  \n",
            " 22  has_other_cards                   1000000 non-null  int64  \n",
            " 23  proposed_credit_limit             1000000 non-null  float64\n",
            " 24  foreign_request                   1000000 non-null  int64  \n",
            " 25  source                            1000000 non-null  object \n",
            " 26  session_length_in_minutes         1000000 non-null  float64\n",
            " 27  device_os                         1000000 non-null  object \n",
            " 28  keep_alive_session                1000000 non-null  int64  \n",
            " 29  device_distinct_emails_8w         1000000 non-null  int64  \n",
            " 30  device_fraud_count                1000000 non-null  int64  \n",
            " 31  month                             1000000 non-null  int64  \n",
            "dtypes: float64(9), int64(18), object(5)\n",
            "memory usage: 244.1+ MB\n"
          ]
        }
      ],
      "source": [
        "# Check column names and columns data type\n",
        "df.info()"
      ]
    },
    {
      "cell_type": "markdown",
      "metadata": {
        "id": "MGhRNfG3Os_B"
      },
      "source": [
        "(2) Check duplicate records"
      ]
    },
    {
      "cell_type": "code",
      "execution_count": null,
      "metadata": {
        "colab": {
          "base_uri": "https://localhost:8080/",
          "height": 115
        },
        "id": "z0gYnlINIbkW",
        "outputId": "faa77e36-fcc3-4cf9-8fab-d11a1ab20f73"
      },
      "outputs": [
        {
          "output_type": "execute_result",
          "data": {
            "text/plain": [
              "False    1000000\n",
              "Name: count, dtype: int64"
            ],
            "text/html": [
              "<div>\n",
              "<style scoped>\n",
              "    .dataframe tbody tr th:only-of-type {\n",
              "        vertical-align: middle;\n",
              "    }\n",
              "\n",
              "    .dataframe tbody tr th {\n",
              "        vertical-align: top;\n",
              "    }\n",
              "\n",
              "    .dataframe thead th {\n",
              "        text-align: right;\n",
              "    }\n",
              "</style>\n",
              "<table border=\"1\" class=\"dataframe\">\n",
              "  <thead>\n",
              "    <tr style=\"text-align: right;\">\n",
              "      <th></th>\n",
              "      <th>count</th>\n",
              "    </tr>\n",
              "  </thead>\n",
              "  <tbody>\n",
              "    <tr>\n",
              "      <th>False</th>\n",
              "      <td>1000000</td>\n",
              "    </tr>\n",
              "  </tbody>\n",
              "</table>\n",
              "</div><br><label><b>dtype:</b> int64</label>"
            ]
          },
          "metadata": {},
          "execution_count": 94
        }
      ],
      "source": [
        "df_dup = df\n",
        "duplicates = df_dup.duplicated()\n",
        "duplicates.value_counts()"
      ]
    },
    {
      "cell_type": "markdown",
      "metadata": {
        "id": "iRQ53pHXeVG7"
      },
      "source": [
        "This shows that there are no duplicated records."
      ]
    },
    {
      "cell_type": "markdown",
      "metadata": {
        "id": "Ps-821fBhvv_"
      },
      "source": [
        "(3) Check for missing values (negative values in this dataset)\n",
        "\n"
      ]
    },
    {
      "cell_type": "code",
      "execution_count": null,
      "metadata": {
        "colab": {
          "base_uri": "https://localhost:8080/"
        },
        "id": "p-uaLIiUg5Ny",
        "outputId": "1dd1041b-ea24-45af-daa5-4939fb56ce75"
      },
      "outputs": [
        {
          "output_type": "stream",
          "name": "stdout",
          "text": [
            "Distribution of device fraud count:  device_fraud_count\n",
            "0    1000000\n",
            "Name: count, dtype: int64\n"
          ]
        }
      ],
      "source": [
        "# device fraud count column\n",
        "\n",
        "print(\"Distribution of device fraud count: \", df['device_fraud_count'].value_counts())\n",
        "\n",
        "# drop, since there is no distribution, all 0s\n",
        "df.drop(columns=['device_fraud_count'], inplace=True)"
      ]
    },
    {
      "cell_type": "code",
      "execution_count": null,
      "metadata": {
        "id": "65p6FOjihFOD"
      },
      "outputs": [],
      "source": [
        "# Get numerical columns\n",
        "numerical_cols = df.select_dtypes(include='number').columns"
      ]
    },
    {
      "cell_type": "code",
      "execution_count": null,
      "metadata": {
        "id": "AHIVKDvVjH_u"
      },
      "outputs": [],
      "source": [
        "# Filter out 'credit_risk_score' from the check\n",
        "cols_to_check = numerical_cols.difference(['credit_risk_score'])"
      ]
    },
    {
      "cell_type": "markdown",
      "source": [
        "# Handling of Missing Data (negative values)"
      ],
      "metadata": {
        "id": "RxxdmFN77TPh"
      }
    },
    {
      "cell_type": "code",
      "execution_count": null,
      "metadata": {
        "colab": {
          "base_uri": "https://localhost:8080/"
        },
        "id": "GJCBEwA0id9m",
        "outputId": "abe5aa33-1dad-46ce-b6ac-162d39a62732"
      },
      "outputs": [
        {
          "output_type": "execute_result",
          "data": {
            "text/plain": [
              "['bank_months_count',\n",
              " 'current_address_months_count',\n",
              " 'device_distinct_emails_8w',\n",
              " 'intended_balcon_amount',\n",
              " 'prev_address_months_count',\n",
              " 'session_length_in_minutes',\n",
              " 'velocity_6h']"
            ]
          },
          "metadata": {},
          "execution_count": 98
        }
      ],
      "source": [
        " # Find columns that have any negative values\n",
        "neg_cols = [col for col in cols_to_check if (df[col] < 0).any()]\n",
        "neg_cols"
      ]
    },
    {
      "cell_type": "code",
      "execution_count": null,
      "metadata": {
        "colab": {
          "base_uri": "https://localhost:8080/",
          "height": 867
        },
        "id": "Q9J343VFh8QK",
        "outputId": "b7ee3c61-79a8-49d9-c023-5bebcdad6079"
      },
      "outputs": [
        {
          "output_type": "execute_result",
          "data": {
            "text/plain": [
              "bank_branch_count_8w                     0\n",
              "bank_months_count                   253635\n",
              "current_address_months_count          4254\n",
              "customer_age                             0\n",
              "date_of_birth_distinct_emails_4w         0\n",
              "days_since_request                       0\n",
              "device_distinct_emails_8w              359\n",
              "email_is_free                            0\n",
              "foreign_request                          0\n",
              "fraud_bool                               0\n",
              "has_other_cards                          0\n",
              "income                                   0\n",
              "intended_balcon_amount              742523\n",
              "keep_alive_session                       0\n",
              "month                                    0\n",
              "name_email_similarity                    0\n",
              "phone_home_valid                         0\n",
              "phone_mobile_valid                       0\n",
              "prev_address_months_count           712920\n",
              "proposed_credit_limit                    0\n",
              "session_length_in_minutes             2015\n",
              "velocity_24h                             0\n",
              "velocity_4w                              0\n",
              "velocity_6h                             44\n",
              "zip_count_4w                             0\n",
              "dtype: int64"
            ],
            "text/html": [
              "<div>\n",
              "<style scoped>\n",
              "    .dataframe tbody tr th:only-of-type {\n",
              "        vertical-align: middle;\n",
              "    }\n",
              "\n",
              "    .dataframe tbody tr th {\n",
              "        vertical-align: top;\n",
              "    }\n",
              "\n",
              "    .dataframe thead th {\n",
              "        text-align: right;\n",
              "    }\n",
              "</style>\n",
              "<table border=\"1\" class=\"dataframe\">\n",
              "  <thead>\n",
              "    <tr style=\"text-align: right;\">\n",
              "      <th></th>\n",
              "      <th>0</th>\n",
              "    </tr>\n",
              "  </thead>\n",
              "  <tbody>\n",
              "    <tr>\n",
              "      <th>bank_branch_count_8w</th>\n",
              "      <td>0</td>\n",
              "    </tr>\n",
              "    <tr>\n",
              "      <th>bank_months_count</th>\n",
              "      <td>253635</td>\n",
              "    </tr>\n",
              "    <tr>\n",
              "      <th>current_address_months_count</th>\n",
              "      <td>4254</td>\n",
              "    </tr>\n",
              "    <tr>\n",
              "      <th>customer_age</th>\n",
              "      <td>0</td>\n",
              "    </tr>\n",
              "    <tr>\n",
              "      <th>date_of_birth_distinct_emails_4w</th>\n",
              "      <td>0</td>\n",
              "    </tr>\n",
              "    <tr>\n",
              "      <th>days_since_request</th>\n",
              "      <td>0</td>\n",
              "    </tr>\n",
              "    <tr>\n",
              "      <th>device_distinct_emails_8w</th>\n",
              "      <td>359</td>\n",
              "    </tr>\n",
              "    <tr>\n",
              "      <th>email_is_free</th>\n",
              "      <td>0</td>\n",
              "    </tr>\n",
              "    <tr>\n",
              "      <th>foreign_request</th>\n",
              "      <td>0</td>\n",
              "    </tr>\n",
              "    <tr>\n",
              "      <th>fraud_bool</th>\n",
              "      <td>0</td>\n",
              "    </tr>\n",
              "    <tr>\n",
              "      <th>has_other_cards</th>\n",
              "      <td>0</td>\n",
              "    </tr>\n",
              "    <tr>\n",
              "      <th>income</th>\n",
              "      <td>0</td>\n",
              "    </tr>\n",
              "    <tr>\n",
              "      <th>intended_balcon_amount</th>\n",
              "      <td>742523</td>\n",
              "    </tr>\n",
              "    <tr>\n",
              "      <th>keep_alive_session</th>\n",
              "      <td>0</td>\n",
              "    </tr>\n",
              "    <tr>\n",
              "      <th>month</th>\n",
              "      <td>0</td>\n",
              "    </tr>\n",
              "    <tr>\n",
              "      <th>name_email_similarity</th>\n",
              "      <td>0</td>\n",
              "    </tr>\n",
              "    <tr>\n",
              "      <th>phone_home_valid</th>\n",
              "      <td>0</td>\n",
              "    </tr>\n",
              "    <tr>\n",
              "      <th>phone_mobile_valid</th>\n",
              "      <td>0</td>\n",
              "    </tr>\n",
              "    <tr>\n",
              "      <th>prev_address_months_count</th>\n",
              "      <td>712920</td>\n",
              "    </tr>\n",
              "    <tr>\n",
              "      <th>proposed_credit_limit</th>\n",
              "      <td>0</td>\n",
              "    </tr>\n",
              "    <tr>\n",
              "      <th>session_length_in_minutes</th>\n",
              "      <td>2015</td>\n",
              "    </tr>\n",
              "    <tr>\n",
              "      <th>velocity_24h</th>\n",
              "      <td>0</td>\n",
              "    </tr>\n",
              "    <tr>\n",
              "      <th>velocity_4w</th>\n",
              "      <td>0</td>\n",
              "    </tr>\n",
              "    <tr>\n",
              "      <th>velocity_6h</th>\n",
              "      <td>44</td>\n",
              "    </tr>\n",
              "    <tr>\n",
              "      <th>zip_count_4w</th>\n",
              "      <td>0</td>\n",
              "    </tr>\n",
              "  </tbody>\n",
              "</table>\n",
              "</div><br><label><b>dtype:</b> int64</label>"
            ]
          },
          "metadata": {},
          "execution_count": 99
        }
      ],
      "source": [
        "# Find number of missing data per column (negative values)\n",
        "neg_counts = (df[cols_to_check] < 0).sum()\n",
        "neg_counts"
      ]
    },
    {
      "cell_type": "markdown",
      "metadata": {
        "id": "LzGFP3vOukhG"
      },
      "source": [
        "We will first look at the column *'intended_balcon_amount'* since it has the most number of missing data. Let's check if missing *'intended_balcon_amount'* has any correlation with the fraud rate."
      ]
    },
    {
      "cell_type": "code",
      "execution_count": null,
      "metadata": {
        "colab": {
          "base_uri": "https://localhost:8080/",
          "height": 472
        },
        "id": "ARV2FvmKpQ-J",
        "outputId": "d85db512-2349-4ea9-fd95-a9789c0c3f22"
      },
      "outputs": [
        {
          "output_type": "display_data",
          "data": {
            "text/plain": [
              "<Figure size 640x480 with 1 Axes>"
            ],
            "image/png": "[encoded data removed]"
          },
          "metadata": {}
        }
      ],
      "source": [
        "# Add missing flag for intended_balcon_amount\n",
        "df['intended_balcon_missing'] = (df['intended_balcon_amount'] < 0).astype(int)\n",
        "\n",
        "# Plot fraud rate vs. missing\n",
        "sns.barplot(x='intended_balcon_missing', y='fraud_bool', data=df)\n",
        "plt.title(\"Fraud Rate vs. Missing Intended Balance\")\n",
        "plt.show()"
      ]
    },
    {
      "cell_type": "markdown",
      "metadata": {
        "id": "xZ_tvvN5vVaR"
      },
      "source": [
        "Given that fraud rate is significantly higher when *'intended_balcon_amount'* is missing (**1.3%**) compared to when it is not (**0.5%**), this shows that the absence of *'intended_balcon_amount'* correlates with **higher fraud likelihood.** Hence, we should not remove the rows in *'intended_balcon_amount'* with missing values. Instead, we will replace the missing values with the median amount."
      ]
    },
    {
      "cell_type": "code",
      "execution_count": null,
      "metadata": {
        "colab": {
          "base_uri": "https://localhost:8080/",
          "height": 511
        },
        "id": "1meDF6Xp_BeP",
        "outputId": "057699aa-6ebd-41ec-9e9e-7f5edc5723aa"
      },
      "outputs": [
        {
          "output_type": "stream",
          "name": "stderr",
          "text": [
            "<ipython-input-101-6d3b8156392c>:10: FutureWarning: A value is trying to be set on a copy of a DataFrame or Series through chained assignment using an inplace method.\n",
            "The behavior will change in pandas 3.0. This inplace method will never work because the intermediate object on which we are setting values always behaves as a copy.\n",
            "\n",
            "For example, when doing 'df[col].method(value, inplace=True)', try using 'df.method({col: value}, inplace=True)' or df[col] = df[col].method(value) instead, to perform the operation inplace on the original object.\n",
            "\n",
            "\n",
            "  df['intended_balcon_amount'].fillna(median_value, inplace=True)\n",
            "<ipython-input-101-6d3b8156392c>:10: FutureWarning: Downcasting object dtype arrays on .fillna, .ffill, .bfill is deprecated and will change in a future version. Call result.infer_objects(copy=False) instead. To opt-in to the future behavior, set `pd.set_option('future.no_silent_downcasting', True)`\n",
            "  df['intended_balcon_amount'].fillna(median_value, inplace=True)\n"
          ]
        },
        {
          "output_type": "execute_result",
          "data": {
            "text/plain": [
              "count    1000000.000000\n",
              "mean          33.501921\n",
              "std           11.929617\n",
              "min            0.000054\n",
              "25%           32.433701\n",
              "50%           32.433701\n",
              "75%           32.433701\n",
              "max          112.956928\n",
              "Name: intended_balcon_amount, dtype: float64"
            ],
            "text/html": [
              "<div>\n",
              "<style scoped>\n",
              "    .dataframe tbody tr th:only-of-type {\n",
              "        vertical-align: middle;\n",
              "    }\n",
              "\n",
              "    .dataframe tbody tr th {\n",
              "        vertical-align: top;\n",
              "    }\n",
              "\n",
              "    .dataframe thead th {\n",
              "        text-align: right;\n",
              "    }\n",
              "</style>\n",
              "<table border=\"1\" class=\"dataframe\">\n",
              "  <thead>\n",
              "    <tr style=\"text-align: right;\">\n",
              "      <th></th>\n",
              "      <th>intended_balcon_amount</th>\n",
              "    </tr>\n",
              "  </thead>\n",
              "  <tbody>\n",
              "    <tr>\n",
              "      <th>count</th>\n",
              "      <td>1000000.000000</td>\n",
              "    </tr>\n",
              "    <tr>\n",
              "      <th>mean</th>\n",
              "      <td>33.501921</td>\n",
              "    </tr>\n",
              "    <tr>\n",
              "      <th>std</th>\n",
              "      <td>11.929617</td>\n",
              "    </tr>\n",
              "    <tr>\n",
              "      <th>min</th>\n",
              "      <td>0.000054</td>\n",
              "    </tr>\n",
              "    <tr>\n",
              "      <th>25%</th>\n",
              "      <td>32.433701</td>\n",
              "    </tr>\n",
              "    <tr>\n",
              "      <th>50%</th>\n",
              "      <td>32.433701</td>\n",
              "    </tr>\n",
              "    <tr>\n",
              "      <th>75%</th>\n",
              "      <td>32.433701</td>\n",
              "    </tr>\n",
              "    <tr>\n",
              "      <th>max</th>\n",
              "      <td>112.956928</td>\n",
              "    </tr>\n",
              "  </tbody>\n",
              "</table>\n",
              "</div><br><label><b>dtype:</b> float64</label>"
            ]
          },
          "metadata": {},
          "execution_count": 101
        }
      ],
      "source": [
        "# Convert missing values of intended_balcon_amount to median value instead\n",
        "\n",
        "# Replace negative intended_balcon_amount values with NaN\n",
        "df['intended_balcon_amount'] = df['intended_balcon_amount'].apply(lambda x: pd.NA if x < 0 else x)\n",
        "\n",
        "# Calculate median of non-missing values\n",
        "median_value = df['intended_balcon_amount'].median(skipna=True)\n",
        "\n",
        "# Fill missing values with the median\n",
        "df['intended_balcon_amount'].fillna(median_value, inplace=True)\n",
        "\n",
        "# Return updated column summary\n",
        "df['intended_balcon_amount'].describe()"
      ]
    },
    {
      "cell_type": "markdown",
      "metadata": {
        "id": "6qVgGIODUx8R"
      },
      "source": [
        "Next, we will take a look at the column *'bank_months_count'* as it has a significant amount of missing values and bank accounts with a longer history tend not to be of fraud."
      ]
    },
    {
      "cell_type": "code",
      "execution_count": null,
      "metadata": {
        "colab": {
          "base_uri": "https://localhost:8080/",
          "height": 472
        },
        "id": "IQxPr02Wu3pI",
        "outputId": "19fcb0aa-8af2-4e5d-d8c6-bbc2148384c1"
      },
      "outputs": [
        {
          "output_type": "display_data",
          "data": {
            "text/plain": [
              "<Figure size 640x480 with 1 Axes>"
            ],
            "image/png": "[encoded data removed]"
          },
          "metadata": {}
        }
      ],
      "source": [
        "# Add missing flag for bank_months_count\n",
        "df['bank_months_missing'] = (df['bank_months_count'] < 0).astype(int)\n",
        "\n",
        "# Plot fraud rate vs. missing\n",
        "sns.barplot(x='bank_months_missing', y='fraud_bool', data=df)\n",
        "plt.title(\"Fraud Rate vs. Missing Bank Months\")\n",
        "plt.show()"
      ]
    },
    {
      "cell_type": "markdown",
      "metadata": {
        "id": "1GSCPWYiVkKe"
      },
      "source": [
        "Given that fraud rate is also higher when *'bank_months_count'* is missing (**1.6%**) compared to when it is not (**0.9%**), this shows that the absence of *'bank_months_count'* also correlates with **higher fraud likelihood.** Hence, we should not remove the rows in *'bank_months_count'* with missing values."
      ]
    },
    {
      "cell_type": "markdown",
      "metadata": {
        "id": "88LH4p08CknF"
      },
      "source": [
        "Based on the description of the data, it seems that this is the count of the number of months the applicant had their previous bank account for. Furthermore, when we look at the initial distribution of the data, there are no rows that indicate a value of 0. As such, we can assume that the rows with missing values would indicate that the applicant does not have a previous bank account."
      ]
    },
    {
      "cell_type": "code",
      "execution_count": null,
      "metadata": {
        "colab": {
          "base_uri": "https://localhost:8080/"
        },
        "id": "73bJEVbaCPBq",
        "outputId": "34624c9e-5f65-459e-d28c-30befadf7932"
      },
      "outputs": [
        {
          "output_type": "stream",
          "name": "stdout",
          "text": [
            "Initial number of rows that indicate '0':  0\n",
            "Updated number of rows that indicate '0':  253635\n"
          ]
        }
      ],
      "source": [
        "# Number of rows of data that have a value of 0\n",
        "print(\"Initial number of rows that indicate '0': \", (df['bank_months_count'] == 0).sum() )\n",
        "\n",
        "# Convert missing values to 0\n",
        "df['bank_months_count'] = df['bank_months_count'].apply(lambda x: 0 if x < 0 else x)\n",
        "\n",
        "# Number of rows of data that have a value of 0\n",
        "print(\"Updated number of rows that indicate '0': \", (df['bank_months_count'] == 0).sum() )"
      ]
    },
    {
      "cell_type": "markdown",
      "metadata": {
        "id": "eO38JdDWEWcw"
      },
      "source": [
        "The same logic would apply for the *prev_address_months_count* column, as people who did not have a previous address would have the data as missing."
      ]
    },
    {
      "cell_type": "code",
      "execution_count": null,
      "metadata": {
        "colab": {
          "base_uri": "https://localhost:8080/"
        },
        "id": "pdmDy9yzEVP8",
        "outputId": "e53e49f8-f74c-49af-fcd1-cf6f29b09879"
      },
      "outputs": [
        {
          "output_type": "stream",
          "name": "stdout",
          "text": [
            "Initial number of rows that indicate '0':  0\n",
            "Updated number of rows that indicate '0':  712920\n"
          ]
        }
      ],
      "source": [
        "# prev_address_months_count column\n",
        "\n",
        "# Assume those that have missing values just do not have a previous address\n",
        "print(\"Initial number of rows that indicate '0': \", (df['prev_address_months_count'] == 0).sum() )\n",
        "\n",
        "# Convert missing values to 0\n",
        "df['prev_address_months_count'] = df['prev_address_months_count'].apply(lambda x: 0 if x < 0 else x)\n",
        "\n",
        "# Number of rows of data that have a value of 0\n",
        "print(\"Updated number of rows that indicate '0': \", (df['prev_address_months_count'] == 0).sum() )"
      ]
    },
    {
      "cell_type": "markdown",
      "metadata": {
        "id": "P7OFBzVpTw1W"
      },
      "source": [
        "Next, we look at the *current address months* column. We first check to see if there are already 0s in the dataset, to see if the missing values could just be the 0s."
      ]
    },
    {
      "cell_type": "code",
      "execution_count": null,
      "metadata": {
        "colab": {
          "base_uri": "https://localhost:8080/"
        },
        "id": "I2EMvomzTW_E",
        "outputId": "61201934-9c6c-4932-fce2-ced933c2bd08"
      },
      "outputs": [
        {
          "output_type": "stream",
          "name": "stdout",
          "text": [
            "Initial number of rows that indicate '0':  9609\n"
          ]
        }
      ],
      "source": [
        "# current_address_months_count column\n",
        "# Check if there are 0s in the dataset already\n",
        "print(\"Initial number of rows that indicate '0': \", (df['current_address_months_count'] == 0).sum() )"
      ]
    },
    {
      "cell_type": "markdown",
      "metadata": {
        "id": "gn2DViv-UKb0"
      },
      "source": [
        "Since there are already 0s in the dataset, we change the missing values to null to not let it affect the dataset.\n",
        "\n",
        "---\n",
        "\n"
      ]
    },
    {
      "cell_type": "code",
      "execution_count": null,
      "metadata": {
        "id": "b6eAVYoEULII"
      },
      "outputs": [],
      "source": [
        "# Replace negative values with NaN\n",
        "df.loc[df['current_address_months_count'] < 0, 'current_address_months_count'] = np.nan"
      ]
    },
    {
      "cell_type": "markdown",
      "metadata": {
        "id": "lBhhRyIEh0z-"
      },
      "source": [
        "Afterwards, we moved on to look at the *missing session length*."
      ]
    },
    {
      "cell_type": "markdown",
      "metadata": {
        "id": "mjKXvJ3MFHAf"
      },
      "source": [
        "For the *missing session length in minutes*, there could be a chance that a missing session length could result from a malware attack on the website or other occurrences, which could be meaningful for our analysis on fraud. As such, we wanted to check the impact of missing session length in minutes on the amount of fraud."
      ]
    },
    {
      "cell_type": "code",
      "execution_count": null,
      "metadata": {
        "colab": {
          "base_uri": "https://localhost:8080/",
          "height": 143
        },
        "id": "UKhw_qxdFDxH",
        "outputId": "24ee1508-995b-4022-e170-c414b130b953"
      },
      "outputs": [
        {
          "output_type": "execute_result",
          "data": {
            "text/plain": [
              "fraud_bool                      0         1\n",
              "session_length_missing                     \n",
              "0                       98.896677  1.103323\n",
              "1                       99.106700  0.893300"
            ],
            "text/html": [
              "\n",
              "  <div id=\"df-d2a973c5-86f0-491f-a9c9-9627dcb96993\" class=\"colab-df-container\">\n",
              "    <div>\n",
              "<style scoped>\n",
              "    .dataframe tbody tr th:only-of-type {\n",
              "        vertical-align: middle;\n",
              "    }\n",
              "\n",
              "    .dataframe tbody tr th {\n",
              "        vertical-align: top;\n",
              "    }\n",
              "\n",
              "    .dataframe thead th {\n",
              "        text-align: right;\n",
              "    }\n",
              "</style>\n",
              "<table border=\"1\" class=\"dataframe\">\n",
              "  <thead>\n",
              "    <tr style=\"text-align: right;\">\n",
              "      <th>fraud_bool</th>\n",
              "      <th>0</th>\n",
              "      <th>1</th>\n",
              "    </tr>\n",
              "    <tr>\n",
              "      <th>session_length_missing</th>\n",
              "      <th></th>\n",
              "      <th></th>\n",
              "    </tr>\n",
              "  </thead>\n",
              "  <tbody>\n",
              "    <tr>\n",
              "      <th>0</th>\n",
              "      <td>98.896677</td>\n",
              "      <td>1.103323</td>\n",
              "    </tr>\n",
              "    <tr>\n",
              "      <th>1</th>\n",
              "      <td>99.106700</td>\n",
              "      <td>0.893300</td>\n",
              "    </tr>\n",
              "  </tbody>\n",
              "</table>\n",
              "</div>\n",
              "    <div class=\"colab-df-buttons\">\n",
              "\n",
              "  <div class=\"colab-df-container\">\n",
              "    <button class=\"colab-df-convert\" onclick=\"convertToInteractive('df-d2a973c5-86f0-491f-a9c9-9627dcb96993')\"\n",
              "            title=\"Convert this dataframe to an interactive table.\"\n",
              "            style=\"display:none;\">\n",
              "\n",
              "  <svg xmlns=\"http://www.w3.org/2000/svg\" height=\"24px\" viewBox=\"0 -960 960 960\">\n",
              "    <path d=\"M120-120v-720h720v720H120Zm60-500h600v-160H180v160Zm220 220h160v-160H400v160Zm0 220h160v-160H400v160ZM180-400h160v-160H180v160Zm440 0h160v-160H620v160ZM180-180h160v-160H180v160Zm440 0h160v-160H620v160Z\"/>\n",
              "  </svg>\n",
              "    </button>\n",
              "\n",
              "  <style>\n",
              "    .colab-df-container {\n",
              "      display:flex;\n",
              "      gap: 12px;\n",
              "    }\n",
              "\n",
              "    .colab-df-convert {\n",
              "      background-color: #E8F0FE;\n",
              "      border: none;\n",
              "      border-radius: 50%;\n",
              "      cursor: pointer;\n",
              "      display: none;\n",
              "      fill: #1967D2;\n",
              "      height: 32px;\n",
              "      padding: 0 0 0 0;\n",
              "      width: 32px;\n",
              "    }\n",
              "\n",
              "    .colab-df-convert:hover {\n",
              "      background-color: #E2EBFA;\n",
              "      box-shadow: 0px 1px 2px rgba(60, 64, 67, 0.3), 0px 1px 3px 1px rgba(60, 64, 67, 0.15);\n",
              "      fill: #174EA6;\n",
              "    }\n",
              "\n",
              "    .colab-df-buttons div {\n",
              "      margin-bottom: 4px;\n",
              "    }\n",
              "\n",
              "    [theme=dark] .colab-df-convert {\n",
              "      background-color: #3B4455;\n",
              "      fill: #D2E3FC;\n",
              "    }\n",
              "\n",
              "    [theme=dark] .colab-df-convert:hover {\n",
              "      background-color: #434B5C;\n",
              "      box-shadow: 0px 1px 3px 1px rgba(0, 0, 0, 0.15);\n",
              "      filter: drop-shadow(0px 1px 2px rgba(0, 0, 0, 0.3));\n",
              "      fill: #FFFFFF;\n",
              "    }\n",
              "  </style>\n",
              "\n",
              "    <script>\n",
              "      const buttonEl =\n",
              "        document.querySelector('#df-d2a973c5-86f0-491f-a9c9-9627dcb96993 button.colab-df-convert');\n",
              "      buttonEl.style.display =\n",
              "        google.colab.kernel.accessAllowed ? 'block' : 'none';\n",
              "\n",
              "      async function convertToInteractive(key) {\n",
              "        const element = document.querySelector('#df-d2a973c5-86f0-491f-a9c9-9627dcb96993');\n",
              "        const dataTable =\n",
              "          await google.colab.kernel.invokeFunction('convertToInteractive',\n",
              "                                                    [key], {});\n",
              "        if (!dataTable) return;\n",
              "\n",
              "        const docLinkHtml = 'Like what you see? Visit the ' +\n",
              "          '<a target=\"_blank\" href=https://colab.research.google.com/notebooks/data_table.ipynb>data table notebook</a>'\n",
              "          + ' to learn more about interactive tables.';\n",
              "        element.innerHTML = '';\n",
              "        dataTable['output_type'] = 'display_data';\n",
              "        await google.colab.output.renderOutput(dataTable, element);\n",
              "        const docLink = document.createElement('div');\n",
              "        docLink.innerHTML = docLinkHtml;\n",
              "        element.appendChild(docLink);\n",
              "      }\n",
              "    </script>\n",
              "  </div>\n",
              "\n",
              "\n",
              "<div id=\"df-76773759-45fb-4f75-ae30-4a9dec316e9b\">\n",
              "  <button class=\"colab-df-quickchart\" onclick=\"quickchart('df-76773759-45fb-4f75-ae30-4a9dec316e9b')\"\n",
              "            title=\"Suggest charts\"\n",
              "            style=\"display:none;\">\n",
              "\n",
              "<svg xmlns=\"http://www.w3.org/2000/svg\" height=\"24px\"viewBox=\"0 0 24 24\"\n",
              "     width=\"24px\">\n",
              "    <g>\n",
              "        <path d=\"M19 3H5c-1.1 0-2 .9-2 2v14c0 1.1.9 2 2 2h14c1.1 0 2-.9 2-2V5c0-1.1-.9-2-2-2zM9 17H7v-7h2v7zm4 0h-2V7h2v10zm4 0h-2v-4h2v4z\"/>\n",
              "    </g>\n",
              "</svg>\n",
              "  </button>\n",
              "\n",
              "<style>\n",
              "  .colab-df-quickchart {\n",
              "      --bg-color: #E8F0FE;\n",
              "      --fill-color: #1967D2;\n",
              "      --hover-bg-color: #E2EBFA;\n",
              "      --hover-fill-color: #174EA6;\n",
              "      --disabled-fill-color: #AAA;\n",
              "      --disabled-bg-color: #DDD;\n",
              "  }\n",
              "\n",
              "  [theme=dark] .colab-df-quickchart {\n",
              "      --bg-color: #3B4455;\n",
              "      --fill-color: #D2E3FC;\n",
              "      --hover-bg-color: #434B5C;\n",
              "      --hover-fill-color: #FFFFFF;\n",
              "      --disabled-bg-color: #3B4455;\n",
              "      --disabled-fill-color: #666;\n",
              "  }\n",
              "\n",
              "  .colab-df-quickchart {\n",
              "    background-color: var(--bg-color);\n",
              "    border: none;\n",
              "    border-radius: 50%;\n",
              "    cursor: pointer;\n",
              "    display: none;\n",
              "    fill: var(--fill-color);\n",
              "    height: 32px;\n",
              "    padding: 0;\n",
              "    width: 32px;\n",
              "  }\n",
              "\n",
              "  .colab-df-quickchart:hover {\n",
              "    background-color: var(--hover-bg-color);\n",
              "    box-shadow: 0 1px 2px rgba(60, 64, 67, 0.3), 0 1px 3px 1px rgba(60, 64, 67, 0.15);\n",
              "    fill: var(--button-hover-fill-color);\n",
              "  }\n",
              "\n",
              "  .colab-df-quickchart-complete:disabled,\n",
              "  .colab-df-quickchart-complete:disabled:hover {\n",
              "    background-color: var(--disabled-bg-color);\n",
              "    fill: var(--disabled-fill-color);\n",
              "    box-shadow: none;\n",
              "  }\n",
              "\n",
              "  .colab-df-spinner {\n",
              "    border: 2px solid var(--fill-color);\n",
              "    border-color: transparent;\n",
              "    border-bottom-color: var(--fill-color);\n",
              "    animation:\n",
              "      spin 1s steps(1) infinite;\n",
              "  }\n",
              "\n",
              "  @keyframes spin {\n",
              "    0% {\n",
              "      border-color: transparent;\n",
              "      border-bottom-color: var(--fill-color);\n",
              "      border-left-color: var(--fill-color);\n",
              "    }\n",
              "    20% {\n",
              "      border-color: transparent;\n",
              "      border-left-color: var(--fill-color);\n",
              "      border-top-color: var(--fill-color);\n",
              "    }\n",
              "    30% {\n",
              "      border-color: transparent;\n",
              "      border-left-color: var(--fill-color);\n",
              "      border-top-color: var(--fill-color);\n",
              "      border-right-color: var(--fill-color);\n",
              "    }\n",
              "    40% {\n",
              "      border-color: transparent;\n",
              "      border-right-color: var(--fill-color);\n",
              "      border-top-color: var(--fill-color);\n",
              "    }\n",
              "    60% {\n",
              "      border-color: transparent;\n",
              "      border-right-color: var(--fill-color);\n",
              "    }\n",
              "    80% {\n",
              "      border-color: transparent;\n",
              "      border-right-color: var(--fill-color);\n",
              "      border-bottom-color: var(--fill-color);\n",
              "    }\n",
              "    90% {\n",
              "      border-color: transparent;\n",
              "      border-bottom-color: var(--fill-color);\n",
              "    }\n",
              "  }\n",
              "</style>\n",
              "\n",
              "  <script>\n",
              "    async function quickchart(key) {\n",
              "      const quickchartButtonEl =\n",
              "        document.querySelector('#' + key + ' button');\n",
              "      quickchartButtonEl.disabled = true;  // To prevent multiple clicks.\n",
              "      quickchartButtonEl.classList.add('colab-df-spinner');\n",
              "      try {\n",
              "        const charts = await google.colab.kernel.invokeFunction(\n",
              "            'suggestCharts', [key], {});\n",
              "      } catch (error) {\n",
              "        console.error('Error during call to suggestCharts:', error);\n",
              "      }\n",
              "      quickchartButtonEl.classList.remove('colab-df-spinner');\n",
              "      quickchartButtonEl.classList.add('colab-df-quickchart-complete');\n",
              "    }\n",
              "    (() => {\n",
              "      let quickchartButtonEl =\n",
              "        document.querySelector('#df-76773759-45fb-4f75-ae30-4a9dec316e9b button');\n",
              "      quickchartButtonEl.style.display =\n",
              "        google.colab.kernel.accessAllowed ? 'block' : 'none';\n",
              "    })();\n",
              "  </script>\n",
              "</div>\n",
              "\n",
              "    </div>\n",
              "  </div>\n"
            ],
            "application/vnd.google.colaboratory.intrinsic+json": {
              "type": "dataframe",
              "summary": "{\n  \"name\": \"pd\",\n  \"rows\": 2,\n  \"fields\": [\n    {\n      \"column\": \"session_length_missing\",\n      \"properties\": {\n        \"dtype\": \"number\",\n        \"std\": 0,\n        \"min\": 0,\n        \"max\": 1,\n        \"num_unique_values\": 2,\n        \"samples\": [\n          1,\n          0\n        ],\n        \"semantic_type\": \"\",\n        \"description\": \"\"\n      }\n    },\n    {\n      \"column\": 0,\n      \"properties\": {\n        \"dtype\": \"number\",\n        \"std\": 0.1485086508073383,\n        \"min\": 98.89667680375958,\n        \"max\": 99.10669975186104,\n        \"num_unique_values\": 2,\n        \"samples\": [\n          99.10669975186104,\n          98.89667680375958\n        ],\n        \"semantic_type\": \"\",\n        \"description\": \"\"\n      }\n    },\n    {\n      \"column\": 1,\n      \"properties\": {\n        \"dtype\": \"number\",\n        \"std\": 0.14850865080733738,\n        \"min\": 0.8933002481389578,\n        \"max\": 1.1033231962404244,\n        \"num_unique_values\": 2,\n        \"samples\": [\n          0.8933002481389578,\n          1.1033231962404244\n        ],\n        \"semantic_type\": \"\",\n        \"description\": \"\"\n      }\n    }\n  ]\n}"
            }
          },
          "metadata": {},
          "execution_count": 107
        }
      ],
      "source": [
        "# session length in minutes\n",
        "# Missingness might be meaningful, so I created a new indicator\n",
        "df['session_length_missing'] = (df['session_length_in_minutes'] < 0).astype(int)\n",
        "\n",
        "\n",
        "# Check the distribution of fraud among this\n",
        "pd.crosstab(df['session_length_missing'], df['fraud_bool'], normalize='index') * 100"
      ]
    },
    {
      "cell_type": "markdown",
      "metadata": {
        "id": "VXFsaJs2FvEH"
      },
      "source": [
        "It seems that the rate of fraud is around the same whether the session length is missing or not, so the missingness of session length may not be as meaningful to our analysis. As such, we decided to convert the missing values to the median length."
      ]
    },
    {
      "cell_type": "code",
      "execution_count": null,
      "metadata": {
        "colab": {
          "base_uri": "https://localhost:8080/"
        },
        "id": "_rDQ9-cRGYrk",
        "outputId": "6ea3f215-23d3-4f05-93a0-9172cdcc592e"
      },
      "outputs": [
        {
          "output_type": "stream",
          "name": "stderr",
          "text": [
            "<ipython-input-108-4e75cc36f6e2>:12: FutureWarning: Downcasting object dtype arrays on .fillna, .ffill, .bfill is deprecated and will change in a future version. Call result.infer_objects(copy=False) instead. To opt-in to the future behavior, set `pd.set_option('future.no_silent_downcasting', True)`\n",
            "  df['session_length_in_minutes'] = df['session_length_in_minutes'].fillna(median_session_length)\n"
          ]
        }
      ],
      "source": [
        "# Seems to be not meaningful, so column dropped and changed missing values to median length\n",
        "# Drop the missing indicator\n",
        "df.drop(columns=['session_length_missing'], inplace=True)\n",
        "\n",
        "# Replace negative values with NaN\n",
        "df['session_length_in_minutes'] = df['session_length_in_minutes'].apply(lambda x: pd.NA if x < 0 else x)\n",
        "\n",
        "# Compute median (excluding missing)\n",
        "median_session_length = df['session_length_in_minutes'].median(skipna=True)\n",
        "\n",
        "# Fill missing (NaN) values with the median\n",
        "df['session_length_in_minutes'] = df['session_length_in_minutes'].fillna(median_session_length)"
      ]
    },
    {
      "cell_type": "code",
      "execution_count": null,
      "metadata": {
        "colab": {
          "base_uri": "https://localhost:8080/"
        },
        "id": "WJCEEXwgHqOo",
        "outputId": "ac15bac1-53a0-4d39-b8f4-2c622cb3cb0d"
      },
      "outputs": [
        {
          "output_type": "stream",
          "name": "stdout",
          "text": [
            "Initial number of rows that indicate '0':  6272\n"
          ]
        }
      ],
      "source": [
        "# Check if there are already 0s in the dataset\n",
        "print(\"Initial number of rows that indicate '0': \", (df['device_distinct_emails_8w'] == 0).sum() )"
      ]
    },
    {
      "cell_type": "markdown",
      "metadata": {
        "id": "Sa_SWntdI_sU"
      },
      "source": [
        "This indicates that the missing rows for distinct emails do not just indicate that there are 0 email addresses, since there is already a distribution of 0s in the dataset. Now, we will check how the missing emails affect fraud count."
      ]
    },
    {
      "cell_type": "code",
      "execution_count": null,
      "metadata": {
        "colab": {
          "base_uri": "https://localhost:8080/",
          "height": 143
        },
        "id": "3I7x2LohI_Hy",
        "outputId": "adb2fe56-e75c-4046-a3d0-8239a7f43810"
      },
      "outputs": [
        {
          "output_type": "execute_result",
          "data": {
            "text/plain": [
              "fraud_bool                              0         1\n",
              "device_distinct_emails_missing                     \n",
              "0                               98.897104  1.102896\n",
              "1                               98.885794  1.114206"
            ],
            "text/html": [
              "\n",
              "  <div id=\"df-d0226448-3336-46fc-a480-c171f7917020\" class=\"colab-df-container\">\n",
              "    <div>\n",
              "<style scoped>\n",
              "    .dataframe tbody tr th:only-of-type {\n",
              "        vertical-align: middle;\n",
              "    }\n",
              "\n",
              "    .dataframe tbody tr th {\n",
              "        vertical-align: top;\n",
              "    }\n",
              "\n",
              "    .dataframe thead th {\n",
              "        text-align: right;\n",
              "    }\n",
              "</style>\n",
              "<table border=\"1\" class=\"dataframe\">\n",
              "  <thead>\n",
              "    <tr style=\"text-align: right;\">\n",
              "      <th>fraud_bool</th>\n",
              "      <th>0</th>\n",
              "      <th>1</th>\n",
              "    </tr>\n",
              "    <tr>\n",
              "      <th>device_distinct_emails_missing</th>\n",
              "      <th></th>\n",
              "      <th></th>\n",
              "    </tr>\n",
              "  </thead>\n",
              "  <tbody>\n",
              "    <tr>\n",
              "      <th>0</th>\n",
              "      <td>98.897104</td>\n",
              "      <td>1.102896</td>\n",
              "    </tr>\n",
              "    <tr>\n",
              "      <th>1</th>\n",
              "      <td>98.885794</td>\n",
              "      <td>1.114206</td>\n",
              "    </tr>\n",
              "  </tbody>\n",
              "</table>\n",
              "</div>\n",
              "    <div class=\"colab-df-buttons\">\n",
              "\n",
              "  <div class=\"colab-df-container\">\n",
              "    <button class=\"colab-df-convert\" onclick=\"convertToInteractive('df-d0226448-3336-46fc-a480-c171f7917020')\"\n",
              "            title=\"Convert this dataframe to an interactive table.\"\n",
              "            style=\"display:none;\">\n",
              "\n",
              "  <svg xmlns=\"http://www.w3.org/2000/svg\" height=\"24px\" viewBox=\"0 -960 960 960\">\n",
              "    <path d=\"M120-120v-720h720v720H120Zm60-500h600v-160H180v160Zm220 220h160v-160H400v160Zm0 220h160v-160H400v160ZM180-400h160v-160H180v160Zm440 0h160v-160H620v160ZM180-180h160v-160H180v160Zm440 0h160v-160H620v160Z\"/>\n",
              "  </svg>\n",
              "    </button>\n",
              "\n",
              "  <style>\n",
              "    .colab-df-container {\n",
              "      display:flex;\n",
              "      gap: 12px;\n",
              "    }\n",
              "\n",
              "    .colab-df-convert {\n",
              "      background-color: #E8F0FE;\n",
              "      border: none;\n",
              "      border-radius: 50%;\n",
              "      cursor: pointer;\n",
              "      display: none;\n",
              "      fill: #1967D2;\n",
              "      height: 32px;\n",
              "      padding: 0 0 0 0;\n",
              "      width: 32px;\n",
              "    }\n",
              "\n",
              "    .colab-df-convert:hover {\n",
              "      background-color: #E2EBFA;\n",
              "      box-shadow: 0px 1px 2px rgba(60, 64, 67, 0.3), 0px 1px 3px 1px rgba(60, 64, 67, 0.15);\n",
              "      fill: #174EA6;\n",
              "    }\n",
              "\n",
              "    .colab-df-buttons div {\n",
              "      margin-bottom: 4px;\n",
              "    }\n",
              "\n",
              "    [theme=dark] .colab-df-convert {\n",
              "      background-color: #3B4455;\n",
              "      fill: #D2E3FC;\n",
              "    }\n",
              "\n",
              "    [theme=dark] .colab-df-convert:hover {\n",
              "      background-color: #434B5C;\n",
              "      box-shadow: 0px 1px 3px 1px rgba(0, 0, 0, 0.15);\n",
              "      filter: drop-shadow(0px 1px 2px rgba(0, 0, 0, 0.3));\n",
              "      fill: #FFFFFF;\n",
              "    }\n",
              "  </style>\n",
              "\n",
              "    <script>\n",
              "      const buttonEl =\n",
              "        document.querySelector('#df-d0226448-3336-46fc-a480-c171f7917020 button.colab-df-convert');\n",
              "      buttonEl.style.display =\n",
              "        google.colab.kernel.accessAllowed ? 'block' : 'none';\n",
              "\n",
              "      async function convertToInteractive(key) {\n",
              "        const element = document.querySelector('#df-d0226448-3336-46fc-a480-c171f7917020');\n",
              "        const dataTable =\n",
              "          await google.colab.kernel.invokeFunction('convertToInteractive',\n",
              "                                                    [key], {});\n",
              "        if (!dataTable) return;\n",
              "\n",
              "        const docLinkHtml = 'Like what you see? Visit the ' +\n",
              "          '<a target=\"_blank\" href=https://colab.research.google.com/notebooks/data_table.ipynb>data table notebook</a>'\n",
              "          + ' to learn more about interactive tables.';\n",
              "        element.innerHTML = '';\n",
              "        dataTable['output_type'] = 'display_data';\n",
              "        await google.colab.output.renderOutput(dataTable, element);\n",
              "        const docLink = document.createElement('div');\n",
              "        docLink.innerHTML = docLinkHtml;\n",
              "        element.appendChild(docLink);\n",
              "      }\n",
              "    </script>\n",
              "  </div>\n",
              "\n",
              "\n",
              "<div id=\"df-61e34850-958a-4b7c-a8a9-e234945309a6\">\n",
              "  <button class=\"colab-df-quickchart\" onclick=\"quickchart('df-61e34850-958a-4b7c-a8a9-e234945309a6')\"\n",
              "            title=\"Suggest charts\"\n",
              "            style=\"display:none;\">\n",
              "\n",
              "<svg xmlns=\"http://www.w3.org/2000/svg\" height=\"24px\"viewBox=\"0 0 24 24\"\n",
              "     width=\"24px\">\n",
              "    <g>\n",
              "        <path d=\"M19 3H5c-1.1 0-2 .9-2 2v14c0 1.1.9 2 2 2h14c1.1 0 2-.9 2-2V5c0-1.1-.9-2-2-2zM9 17H7v-7h2v7zm4 0h-2V7h2v10zm4 0h-2v-4h2v4z\"/>\n",
              "    </g>\n",
              "</svg>\n",
              "  </button>\n",
              "\n",
              "<style>\n",
              "  .colab-df-quickchart {\n",
              "      --bg-color: #E8F0FE;\n",
              "      --fill-color: #1967D2;\n",
              "      --hover-bg-color: #E2EBFA;\n",
              "      --hover-fill-color: #174EA6;\n",
              "      --disabled-fill-color: #AAA;\n",
              "      --disabled-bg-color: #DDD;\n",
              "  }\n",
              "\n",
              "  [theme=dark] .colab-df-quickchart {\n",
              "      --bg-color: #3B4455;\n",
              "      --fill-color: #D2E3FC;\n",
              "      --hover-bg-color: #434B5C;\n",
              "      --hover-fill-color: #FFFFFF;\n",
              "      --disabled-bg-color: #3B4455;\n",
              "      --disabled-fill-color: #666;\n",
              "  }\n",
              "\n",
              "  .colab-df-quickchart {\n",
              "    background-color: var(--bg-color);\n",
              "    border: none;\n",
              "    border-radius: 50%;\n",
              "    cursor: pointer;\n",
              "    display: none;\n",
              "    fill: var(--fill-color);\n",
              "    height: 32px;\n",
              "    padding: 0;\n",
              "    width: 32px;\n",
              "  }\n",
              "\n",
              "  .colab-df-quickchart:hover {\n",
              "    background-color: var(--hover-bg-color);\n",
              "    box-shadow: 0 1px 2px rgba(60, 64, 67, 0.3), 0 1px 3px 1px rgba(60, 64, 67, 0.15);\n",
              "    fill: var(--button-hover-fill-color);\n",
              "  }\n",
              "\n",
              "  .colab-df-quickchart-complete:disabled,\n",
              "  .colab-df-quickchart-complete:disabled:hover {\n",
              "    background-color: var(--disabled-bg-color);\n",
              "    fill: var(--disabled-fill-color);\n",
              "    box-shadow: none;\n",
              "  }\n",
              "\n",
              "  .colab-df-spinner {\n",
              "    border: 2px solid var(--fill-color);\n",
              "    border-color: transparent;\n",
              "    border-bottom-color: var(--fill-color);\n",
              "    animation:\n",
              "      spin 1s steps(1) infinite;\n",
              "  }\n",
              "\n",
              "  @keyframes spin {\n",
              "    0% {\n",
              "      border-color: transparent;\n",
              "      border-bottom-color: var(--fill-color);\n",
              "      border-left-color: var(--fill-color);\n",
              "    }\n",
              "    20% {\n",
              "      border-color: transparent;\n",
              "      border-left-color: var(--fill-color);\n",
              "      border-top-color: var(--fill-color);\n",
              "    }\n",
              "    30% {\n",
              "      border-color: transparent;\n",
              "      border-left-color: var(--fill-color);\n",
              "      border-top-color: var(--fill-color);\n",
              "      border-right-color: var(--fill-color);\n",
              "    }\n",
              "    40% {\n",
              "      border-color: transparent;\n",
              "      border-right-color: var(--fill-color);\n",
              "      border-top-color: var(--fill-color);\n",
              "    }\n",
              "    60% {\n",
              "      border-color: transparent;\n",
              "      border-right-color: var(--fill-color);\n",
              "    }\n",
              "    80% {\n",
              "      border-color: transparent;\n",
              "      border-right-color: var(--fill-color);\n",
              "      border-bottom-color: var(--fill-color);\n",
              "    }\n",
              "    90% {\n",
              "      border-color: transparent;\n",
              "      border-bottom-color: var(--fill-color);\n",
              "    }\n",
              "  }\n",
              "</style>\n",
              "\n",
              "  <script>\n",
              "    async function quickchart(key) {\n",
              "      const quickchartButtonEl =\n",
              "        document.querySelector('#' + key + ' button');\n",
              "      quickchartButtonEl.disabled = true;  // To prevent multiple clicks.\n",
              "      quickchartButtonEl.classList.add('colab-df-spinner');\n",
              "      try {\n",
              "        const charts = await google.colab.kernel.invokeFunction(\n",
              "            'suggestCharts', [key], {});\n",
              "      } catch (error) {\n",
              "        console.error('Error during call to suggestCharts:', error);\n",
              "      }\n",
              "      quickchartButtonEl.classList.remove('colab-df-spinner');\n",
              "      quickchartButtonEl.classList.add('colab-df-quickchart-complete');\n",
              "    }\n",
              "    (() => {\n",
              "      let quickchartButtonEl =\n",
              "        document.querySelector('#df-61e34850-958a-4b7c-a8a9-e234945309a6 button');\n",
              "      quickchartButtonEl.style.display =\n",
              "        google.colab.kernel.accessAllowed ? 'block' : 'none';\n",
              "    })();\n",
              "  </script>\n",
              "</div>\n",
              "\n",
              "    </div>\n",
              "  </div>\n"
            ],
            "application/vnd.google.colaboratory.intrinsic+json": {
              "type": "dataframe",
              "summary": "{\n  \"name\": \"pd\",\n  \"rows\": 2,\n  \"fields\": [\n    {\n      \"column\": \"device_distinct_emails_missing\",\n      \"properties\": {\n        \"dtype\": \"number\",\n        \"std\": 0,\n        \"min\": 0,\n        \"max\": 1,\n        \"num_unique_values\": 2,\n        \"samples\": [\n          1,\n          0\n        ],\n        \"semantic_type\": \"\",\n        \"description\": \"\"\n      }\n    },\n    {\n      \"column\": 0,\n      \"properties\": {\n        \"dtype\": \"number\",\n        \"std\": 0.007997510978752054,\n        \"min\": 98.88579387186628,\n        \"max\": 98.89710406035766,\n        \"num_unique_values\": 2,\n        \"samples\": [\n          98.88579387186628,\n          98.89710406035766\n        ],\n        \"semantic_type\": \"\",\n        \"description\": \"\"\n      }\n    },\n    {\n      \"column\": 1,\n      \"properties\": {\n        \"dtype\": \"number\",\n        \"std\": 0.007997510978747973,\n        \"min\": 1.1028959396423317,\n        \"max\": 1.1142061281337048,\n        \"num_unique_values\": 2,\n        \"samples\": [\n          1.1142061281337048,\n          1.1028959396423317\n        ],\n        \"semantic_type\": \"\",\n        \"description\": \"\"\n      }\n    }\n  ]\n}"
            }
          },
          "metadata": {},
          "execution_count": 110
        }
      ],
      "source": [
        "# device distinct emails\n",
        "# Missingness might be meaningful, so I created a new indicator\n",
        "df['device_distinct_emails_missing'] = (df['device_distinct_emails_8w'] < 0).astype(int)\n",
        "\n",
        "\n",
        "# Check the distribution of fraud among this\n",
        "pd.crosstab(df['device_distinct_emails_missing'], df['fraud_bool'], normalize='index') * 100"
      ]
    },
    {
      "cell_type": "markdown",
      "metadata": {
        "id": "eEzSamEXJD73"
      },
      "source": [
        " Since it seems like the distribution of fraud count is around the same, it looks like the missing emails do not affect fraud count that much too. As such, we converted the missing values to null as well."
      ]
    },
    {
      "cell_type": "code",
      "execution_count": null,
      "metadata": {
        "id": "WWjN1SIISgrj"
      },
      "outputs": [],
      "source": [
        "# seems like not meaningful, so column dropped and changed missing values  to null\n",
        "# Drop the missing indicator\n",
        "df.drop(columns=['device_distinct_emails_missing'], inplace=True)\n",
        "\n",
        "# Replace negative values with NaN\n",
        "df.loc[df['device_distinct_emails_8w'] < 0, 'device_distinct_emails_8w'] = np.nan"
      ]
    },
    {
      "cell_type": "markdown",
      "metadata": {
        "id": "FccW7DIbWjHa"
      },
      "source": [
        "Lastly, we will look at the relationship between *'velocity_6h'* and the fraud rate to determine if it should be removed."
      ]
    },
    {
      "cell_type": "code",
      "execution_count": null,
      "metadata": {
        "colab": {
          "base_uri": "https://localhost:8080/",
          "height": 472
        },
        "id": "Cl-Ef48bwFUR",
        "outputId": "4deaf263-3155-4a62-83ea-366405da7bd6"
      },
      "outputs": [
        {
          "output_type": "display_data",
          "data": {
            "text/plain": [
              "<Figure size 640x480 with 1 Axes>"
            ],
            "image/png": "[encoded data removed]"
          },
          "metadata": {}
        }
      ],
      "source": [
        "# Add missing flag for velocity_6h\n",
        "df['velocity_6h_missing'] = (df['velocity_6h'] < 0).astype(int)\n",
        "\n",
        "# Plot fraud rate vs. missing\n",
        "sns.barplot(x='velocity_6h_missing', y='fraud_bool', data=df)\n",
        "plt.title(\"Fraud Rate vs. Missing Velocity of Total Applications made in last 6 hours\")\n",
        "plt.show()"
      ]
    },
    {
      "cell_type": "markdown",
      "metadata": {
        "id": "epeL9jUDYM8Q"
      },
      "source": [
        "Given that there are no frauds present when the values of *'velocity_6h'* are not missing, we will remove the rows with missing values of this column."
      ]
    },
    {
      "cell_type": "code",
      "execution_count": null,
      "metadata": {
        "id": "0d6pjePNY2_5"
      },
      "outputs": [],
      "source": [
        "# Remove rows with missing values from velocity_6h\n",
        "df = df[df['velocity_6h'] >= 0]"
      ]
    },
    {
      "cell_type": "markdown",
      "source": [
        "Lastly, we decide to drop all the null values as they only take up less than 1% of the total dataset"
      ],
      "metadata": {
        "id": "eEf8CqHY771z"
      }
    },
    {
      "cell_type": "code",
      "execution_count": null,
      "metadata": {
        "id": "jo1gsWhiE0c3"
      },
      "outputs": [],
      "source": [
        "df = df.replace([np.inf, -np.inf], np.nan)\n",
        "df = df.dropna()"
      ]
    },
    {
      "cell_type": "code",
      "execution_count": null,
      "metadata": {
        "colab": {
          "base_uri": "https://localhost:8080/",
          "height": 867
        },
        "id": "qIRdURAFZGi4",
        "outputId": "d71b3250-d3c4-4de7-e25f-39295c7fb96b"
      },
      "outputs": [
        {
          "output_type": "execute_result",
          "data": {
            "text/plain": [
              "bank_branch_count_8w                0\n",
              "bank_months_count                   0\n",
              "current_address_months_count        0\n",
              "customer_age                        0\n",
              "date_of_birth_distinct_emails_4w    0\n",
              "days_since_request                  0\n",
              "device_distinct_emails_8w           0\n",
              "email_is_free                       0\n",
              "foreign_request                     0\n",
              "fraud_bool                          0\n",
              "has_other_cards                     0\n",
              "income                              0\n",
              "intended_balcon_amount              0\n",
              "keep_alive_session                  0\n",
              "month                               0\n",
              "name_email_similarity               0\n",
              "phone_home_valid                    0\n",
              "phone_mobile_valid                  0\n",
              "prev_address_months_count           0\n",
              "proposed_credit_limit               0\n",
              "session_length_in_minutes           0\n",
              "velocity_24h                        0\n",
              "velocity_4w                         0\n",
              "velocity_6h                         0\n",
              "zip_count_4w                        0\n",
              "dtype: int64"
            ],
            "text/html": [
              "<div>\n",
              "<style scoped>\n",
              "    .dataframe tbody tr th:only-of-type {\n",
              "        vertical-align: middle;\n",
              "    }\n",
              "\n",
              "    .dataframe tbody tr th {\n",
              "        vertical-align: top;\n",
              "    }\n",
              "\n",
              "    .dataframe thead th {\n",
              "        text-align: right;\n",
              "    }\n",
              "</style>\n",
              "<table border=\"1\" class=\"dataframe\">\n",
              "  <thead>\n",
              "    <tr style=\"text-align: right;\">\n",
              "      <th></th>\n",
              "      <th>0</th>\n",
              "    </tr>\n",
              "  </thead>\n",
              "  <tbody>\n",
              "    <tr>\n",
              "      <th>bank_branch_count_8w</th>\n",
              "      <td>0</td>\n",
              "    </tr>\n",
              "    <tr>\n",
              "      <th>bank_months_count</th>\n",
              "      <td>0</td>\n",
              "    </tr>\n",
              "    <tr>\n",
              "      <th>current_address_months_count</th>\n",
              "      <td>0</td>\n",
              "    </tr>\n",
              "    <tr>\n",
              "      <th>customer_age</th>\n",
              "      <td>0</td>\n",
              "    </tr>\n",
              "    <tr>\n",
              "      <th>date_of_birth_distinct_emails_4w</th>\n",
              "      <td>0</td>\n",
              "    </tr>\n",
              "    <tr>\n",
              "      <th>days_since_request</th>\n",
              "      <td>0</td>\n",
              "    </tr>\n",
              "    <tr>\n",
              "      <th>device_distinct_emails_8w</th>\n",
              "      <td>0</td>\n",
              "    </tr>\n",
              "    <tr>\n",
              "      <th>email_is_free</th>\n",
              "      <td>0</td>\n",
              "    </tr>\n",
              "    <tr>\n",
              "      <th>foreign_request</th>\n",
              "      <td>0</td>\n",
              "    </tr>\n",
              "    <tr>\n",
              "      <th>fraud_bool</th>\n",
              "      <td>0</td>\n",
              "    </tr>\n",
              "    <tr>\n",
              "      <th>has_other_cards</th>\n",
              "      <td>0</td>\n",
              "    </tr>\n",
              "    <tr>\n",
              "      <th>income</th>\n",
              "      <td>0</td>\n",
              "    </tr>\n",
              "    <tr>\n",
              "      <th>intended_balcon_amount</th>\n",
              "      <td>0</td>\n",
              "    </tr>\n",
              "    <tr>\n",
              "      <th>keep_alive_session</th>\n",
              "      <td>0</td>\n",
              "    </tr>\n",
              "    <tr>\n",
              "      <th>month</th>\n",
              "      <td>0</td>\n",
              "    </tr>\n",
              "    <tr>\n",
              "      <th>name_email_similarity</th>\n",
              "      <td>0</td>\n",
              "    </tr>\n",
              "    <tr>\n",
              "      <th>phone_home_valid</th>\n",
              "      <td>0</td>\n",
              "    </tr>\n",
              "    <tr>\n",
              "      <th>phone_mobile_valid</th>\n",
              "      <td>0</td>\n",
              "    </tr>\n",
              "    <tr>\n",
              "      <th>prev_address_months_count</th>\n",
              "      <td>0</td>\n",
              "    </tr>\n",
              "    <tr>\n",
              "      <th>proposed_credit_limit</th>\n",
              "      <td>0</td>\n",
              "    </tr>\n",
              "    <tr>\n",
              "      <th>session_length_in_minutes</th>\n",
              "      <td>0</td>\n",
              "    </tr>\n",
              "    <tr>\n",
              "      <th>velocity_24h</th>\n",
              "      <td>0</td>\n",
              "    </tr>\n",
              "    <tr>\n",
              "      <th>velocity_4w</th>\n",
              "      <td>0</td>\n",
              "    </tr>\n",
              "    <tr>\n",
              "      <th>velocity_6h</th>\n",
              "      <td>0</td>\n",
              "    </tr>\n",
              "    <tr>\n",
              "      <th>zip_count_4w</th>\n",
              "      <td>0</td>\n",
              "    </tr>\n",
              "  </tbody>\n",
              "</table>\n",
              "</div><br><label><b>dtype:</b> int64</label>"
            ]
          },
          "metadata": {},
          "execution_count": 115
        }
      ],
      "source": [
        "# Find number of missing data per column (negative values)\n",
        "new_neg_counts = (df[cols_to_check] < 0).sum()\n",
        "new_neg_counts"
      ]
    },
    {
      "cell_type": "markdown",
      "metadata": {
        "id": "FhYvPMvK5sfI"
      },
      "source": [
        "# Feature Engineering"
      ]
    },
    {
      "cell_type": "code",
      "execution_count": null,
      "metadata": {
        "id": "oJAv7jGH53Fa"
      },
      "outputs": [],
      "source": [
        "#create income to age ratio\n",
        "df['income_age_ratio'] = df['income'] / df['customer_age']\n",
        "\n",
        "#income to credit risk ratio\n",
        "df['income_credit_risk_ratio'] = df['income'] / df['credit_risk_score']\n",
        "\n",
        "#credit risk to age ratio\n",
        "df['credit_risk_age_ratio'] = df['credit_risk_score'] / df['customer_age']\n",
        "\n",
        "#income group\n",
        "df['income_group']= pd.cut(df['income'], bins=[0,0.3,0.6,0.9], labels=['low', 'medium','high'])"
      ]
    },
    {
      "cell_type": "code",
      "source": [
        "df.isnull().sum()\n"
      ],
      "metadata": {
        "colab": {
          "base_uri": "https://localhost:8080/",
          "height": 1000
        },
        "id": "p9p5hoSbM8fZ",
        "outputId": "efb5645a-652c-4e7e-80a3-2dbe906aa4f3"
      },
      "execution_count": null,
      "outputs": [
        {
          "output_type": "execute_result",
          "data": {
            "text/plain": [
              "fraud_bool                          0\n",
              "income                              0\n",
              "name_email_similarity               0\n",
              "prev_address_months_count           0\n",
              "current_address_months_count        0\n",
              "customer_age                        0\n",
              "days_since_request                  0\n",
              "intended_balcon_amount              0\n",
              "payment_type                        0\n",
              "zip_count_4w                        0\n",
              "velocity_6h                         0\n",
              "velocity_24h                        0\n",
              "velocity_4w                         0\n",
              "bank_branch_count_8w                0\n",
              "date_of_birth_distinct_emails_4w    0\n",
              "employment_status                   0\n",
              "credit_risk_score                   0\n",
              "email_is_free                       0\n",
              "housing_status                      0\n",
              "phone_home_valid                    0\n",
              "phone_mobile_valid                  0\n",
              "bank_months_count                   0\n",
              "has_other_cards                     0\n",
              "proposed_credit_limit               0\n",
              "foreign_request                     0\n",
              "source                              0\n",
              "session_length_in_minutes           0\n",
              "device_os                           0\n",
              "keep_alive_session                  0\n",
              "device_distinct_emails_8w           0\n",
              "month                               0\n",
              "intended_balcon_missing             0\n",
              "bank_months_missing                 0\n",
              "velocity_6h_missing                 0\n",
              "income_age_ratio                    0\n",
              "income_credit_risk_ratio            0\n",
              "credit_risk_age_ratio               0\n",
              "income_group                        0\n",
              "dtype: int64"
            ],
            "text/html": [
              "<div>\n",
              "<style scoped>\n",
              "    .dataframe tbody tr th:only-of-type {\n",
              "        vertical-align: middle;\n",
              "    }\n",
              "\n",
              "    .dataframe tbody tr th {\n",
              "        vertical-align: top;\n",
              "    }\n",
              "\n",
              "    .dataframe thead th {\n",
              "        text-align: right;\n",
              "    }\n",
              "</style>\n",
              "<table border=\"1\" class=\"dataframe\">\n",
              "  <thead>\n",
              "    <tr style=\"text-align: right;\">\n",
              "      <th></th>\n",
              "      <th>0</th>\n",
              "    </tr>\n",
              "  </thead>\n",
              "  <tbody>\n",
              "    <tr>\n",
              "      <th>fraud_bool</th>\n",
              "      <td>0</td>\n",
              "    </tr>\n",
              "    <tr>\n",
              "      <th>income</th>\n",
              "      <td>0</td>\n",
              "    </tr>\n",
              "    <tr>\n",
              "      <th>name_email_similarity</th>\n",
              "      <td>0</td>\n",
              "    </tr>\n",
              "    <tr>\n",
              "      <th>prev_address_months_count</th>\n",
              "      <td>0</td>\n",
              "    </tr>\n",
              "    <tr>\n",
              "      <th>current_address_months_count</th>\n",
              "      <td>0</td>\n",
              "    </tr>\n",
              "    <tr>\n",
              "      <th>customer_age</th>\n",
              "      <td>0</td>\n",
              "    </tr>\n",
              "    <tr>\n",
              "      <th>days_since_request</th>\n",
              "      <td>0</td>\n",
              "    </tr>\n",
              "    <tr>\n",
              "      <th>intended_balcon_amount</th>\n",
              "      <td>0</td>\n",
              "    </tr>\n",
              "    <tr>\n",
              "      <th>payment_type</th>\n",
              "      <td>0</td>\n",
              "    </tr>\n",
              "    <tr>\n",
              "      <th>zip_count_4w</th>\n",
              "      <td>0</td>\n",
              "    </tr>\n",
              "    <tr>\n",
              "      <th>velocity_6h</th>\n",
              "      <td>0</td>\n",
              "    </tr>\n",
              "    <tr>\n",
              "      <th>velocity_24h</th>\n",
              "      <td>0</td>\n",
              "    </tr>\n",
              "    <tr>\n",
              "      <th>velocity_4w</th>\n",
              "      <td>0</td>\n",
              "    </tr>\n",
              "    <tr>\n",
              "      <th>bank_branch_count_8w</th>\n",
              "      <td>0</td>\n",
              "    </tr>\n",
              "    <tr>\n",
              "      <th>date_of_birth_distinct_emails_4w</th>\n",
              "      <td>0</td>\n",
              "    </tr>\n",
              "    <tr>\n",
              "      <th>employment_status</th>\n",
              "      <td>0</td>\n",
              "    </tr>\n",
              "    <tr>\n",
              "      <th>credit_risk_score</th>\n",
              "      <td>0</td>\n",
              "    </tr>\n",
              "    <tr>\n",
              "      <th>email_is_free</th>\n",
              "      <td>0</td>\n",
              "    </tr>\n",
              "    <tr>\n",
              "      <th>housing_status</th>\n",
              "      <td>0</td>\n",
              "    </tr>\n",
              "    <tr>\n",
              "      <th>phone_home_valid</th>\n",
              "      <td>0</td>\n",
              "    </tr>\n",
              "    <tr>\n",
              "      <th>phone_mobile_valid</th>\n",
              "      <td>0</td>\n",
              "    </tr>\n",
              "    <tr>\n",
              "      <th>bank_months_count</th>\n",
              "      <td>0</td>\n",
              "    </tr>\n",
              "    <tr>\n",
              "      <th>has_other_cards</th>\n",
              "      <td>0</td>\n",
              "    </tr>\n",
              "    <tr>\n",
              "      <th>proposed_credit_limit</th>\n",
              "      <td>0</td>\n",
              "    </tr>\n",
              "    <tr>\n",
              "      <th>foreign_request</th>\n",
              "      <td>0</td>\n",
              "    </tr>\n",
              "    <tr>\n",
              "      <th>source</th>\n",
              "      <td>0</td>\n",
              "    </tr>\n",
              "    <tr>\n",
              "      <th>session_length_in_minutes</th>\n",
              "      <td>0</td>\n",
              "    </tr>\n",
              "    <tr>\n",
              "      <th>device_os</th>\n",
              "      <td>0</td>\n",
              "    </tr>\n",
              "    <tr>\n",
              "      <th>keep_alive_session</th>\n",
              "      <td>0</td>\n",
              "    </tr>\n",
              "    <tr>\n",
              "      <th>device_distinct_emails_8w</th>\n",
              "      <td>0</td>\n",
              "    </tr>\n",
              "    <tr>\n",
              "      <th>month</th>\n",
              "      <td>0</td>\n",
              "    </tr>\n",
              "    <tr>\n",
              "      <th>intended_balcon_missing</th>\n",
              "      <td>0</td>\n",
              "    </tr>\n",
              "    <tr>\n",
              "      <th>bank_months_missing</th>\n",
              "      <td>0</td>\n",
              "    </tr>\n",
              "    <tr>\n",
              "      <th>velocity_6h_missing</th>\n",
              "      <td>0</td>\n",
              "    </tr>\n",
              "    <tr>\n",
              "      <th>income_age_ratio</th>\n",
              "      <td>0</td>\n",
              "    </tr>\n",
              "    <tr>\n",
              "      <th>income_credit_risk_ratio</th>\n",
              "      <td>0</td>\n",
              "    </tr>\n",
              "    <tr>\n",
              "      <th>credit_risk_age_ratio</th>\n",
              "      <td>0</td>\n",
              "    </tr>\n",
              "    <tr>\n",
              "      <th>income_group</th>\n",
              "      <td>0</td>\n",
              "    </tr>\n",
              "  </tbody>\n",
              "</table>\n",
              "</div><br><label><b>dtype:</b> int64</label>"
            ]
          },
          "metadata": {},
          "execution_count": 117
        }
      ]
    },
    {
      "cell_type": "markdown",
      "metadata": {
        "id": "6RUiUPZy6Gn0"
      },
      "source": [
        "Rationale for new variables:\n",
        "1. Income-to-Age Ratio: Assesses earning potential relative to age for evaluating financial stability, helping identify if income aligns with expected career growth.\n",
        "\n",
        "2. Income-to-Credit Risk Ratio: Measures income sufficiency against credit risk for risk assessment, ensuring income can cover potential financial risk.\n",
        "\n",
        "3. Credit Risk-to-Age Ratio: Identifies credit risk trends across different age groups, highlighting potential financial behavior patterns with age.\n",
        "\n",
        "4. Income Group: Segments applicants into income brackets for better risk profiling, simplifying the analysis of financial behavior based on income levels."
      ]
    },
    {
      "cell_type": "markdown",
      "metadata": {
        "id": "25qvyT-pavfJ"
      },
      "source": [
        "# Export Final Dataset"
      ]
    },
    {
      "cell_type": "code",
      "execution_count": null,
      "metadata": {
        "id": "V1qEhcI36Qgi"
      },
      "outputs": [],
      "source": [
        "df.to_csv('/content/drive/MyDrive/DBA3803/Dataset/final_dataset.csv', index=False)"
      ]
    }
  ],
  "metadata": {
    "colab": {
      "provenance": []
    },
    "kernelspec": {
      "display_name": "Python 3",
      "name": "python3"
    },
    "language_info": {
      "name": "python"
    }
  },
  "nbformat": 4,
  "nbformat_minor": 0
}